{
 "cells": [
  {
   "cell_type": "code",
   "execution_count": null,
   "metadata": {},
   "outputs": [],
   "source": [
    "from ucidata import UC_Irvine_datasets, df_first_row_to_header\n",
    "from Kip_plotly_viz import viz_stacked_tasks_time, viz_stacked_area_tasks_time, viz_webhits_data_available, worldmap\n",
    "ucid = UC_Irvine_datasets()\n",
    "copydf = ucid.to_df().copy()"
   ]
  },
  {
   "cell_type": "markdown",
   "metadata": {},
   "source": [
    "# UC Irvine Datasets \n",
    "## Changes over time and the future \n"
   ]
  },
  {
   "cell_type": "code",
   "execution_count": null,
   "metadata": {},
   "outputs": [],
   "source": [
    "ucid.print_barplot(\"year_donated\", \"sum_file_sizes\", colorcol=\"Area\")"
   ]
  },
  {
   "cell_type": "code",
   "execution_count": null,
   "metadata": {},
   "outputs": [],
   "source": [
    "viz_stacked_area_tasks_time(copydf).show()\n",
    "viz_webhits_data_available(copydf).show()"
   ]
  },
  {
   "cell_type": "markdown",
   "metadata": {},
   "source": [
    "### Making an Object from A Dataset\n",
    "\n",
    "First we need to import the relevant project files, including the class **UC_Irvine_datasets**.\n",
    "\n",
    "## class UC_Irvine_datasets()\n",
    "\n",
    "An instance of the UC_Irvine_datasets() object contains a dataframe of all the datasets. \n",
    "\n",
    "Many methods make it easy to peruse, export, and even import the datasets inside the object."
   ]
  },
  {
   "cell_type": "code",
   "execution_count": null,
   "metadata": {},
   "outputs": [],
   "source": [
    "# Create an instance of the class, which loads the datafram of UC Irvine MLR\n",
    "ucid = UC_Irvine_datasets()"
   ]
  },
  {
   "cell_type": "markdown",
   "metadata": {},
   "source": [
    "## string representation\n",
    "\n",
    "The string property allows users to understand the current state of the class object."
   ]
  },
  {
   "cell_type": "code",
   "execution_count": null,
   "metadata": {
    "scrolled": true,
    "tags": []
   },
   "outputs": [],
   "source": [
    "print(ucid)"
   ]
  },
  {
   "cell_type": "markdown",
   "metadata": {},
   "source": [
    "## object.list_all_datasets()\n",
    "\n",
    "Look at what datasets area available with *list_all_datasets()*"
   ]
  },
  {
   "cell_type": "code",
   "execution_count": null,
   "metadata": {},
   "outputs": [],
   "source": [
    "listall = ucid.list_all_datasets()\n",
    "print(listall)"
   ]
  },
  {
   "cell_type": "markdown",
   "metadata": {},
   "source": [
    "## object.limit(fieldname, value_to_match)\n",
    "\n",
    "If you want to select only a single kind of dataset, limit to a single value with limit()."
   ]
  },
  {
   "cell_type": "code",
   "execution_count": null,
   "metadata": {
    "scrolled": true
   },
   "outputs": [],
   "source": [
    "ucid.limit(\"Area\", \"Business\")\n",
    "print(ucid)\n",
    "ucid.list_all_datasets()"
   ]
  },
  {
   "cell_type": "markdown",
   "metadata": {},
   "source": [
    "## object.show_me_dataset(ID)\n",
    "\n",
    "Wow that's too many datasets all at once. \n",
    "\n",
    "Let's just look at one with *show_me_dataset(ID)*"
   ]
  },
  {
   "cell_type": "code",
   "execution_count": null,
   "metadata": {},
   "outputs": [],
   "source": [
    "ds = ucid.show_me_dataset(\"wine-quality\")\n",
    "print(ds)"
   ]
  },
  {
   "cell_type": "markdown",
   "metadata": {},
   "source": [
    "## object.load_small_dataset_df(ID)\n",
    "\n",
    "There's a flag set on this data set called small = 1. \n",
    "\n",
    "In this case that means that our team decided the dataset was sufficiently small to safely import directly as a dataframe.\n",
    "\n",
    "You can try to import any small dataset as *load_small_dataset_df(ID)*\n",
    "\n",
    "Note that if there are multiple datasets available, only the first dataset is loaded. "
   ]
  },
  {
   "cell_type": "code",
   "execution_count": null,
   "metadata": {},
   "outputs": [],
   "source": [
    "test_load_df = ucid.load_small_dataset_df(\"wine-quality\")\n",
    "print(f\"There are {len(test_load_df.index)} rows\")\n",
    "print(test_load_df.head())"
   ]
  },
  {
   "cell_type": "markdown",
   "metadata": {},
   "source": [
    "## df_first_row_to_header(df)\n",
    "\n",
    "Sometimes the datasets come with headers, and sometimes they don't. \n",
    "\n",
    "*df_first_row_to_header(df)* will resolve this issue."
   ]
  },
  {
   "cell_type": "code",
   "execution_count": null,
   "metadata": {
    "scrolled": true
   },
   "outputs": [],
   "source": [
    "test_load_df = df_first_row_to_header(test_load_df)\n",
    "print(\"\\n\\n### WITH HEADERS CORRECTED ###\\n\")\n",
    "print(test_load_df.head())"
   ]
  },
  {
   "cell_type": "markdown",
   "metadata": {},
   "source": [
    "## object.small_datasets_only()\n",
    "\n",
    "*object.small_datasets_only()* will return a new object of only \"small\" datasets.\n",
    "\n",
    "Let's see what returns from using it."
   ]
  },
  {
   "cell_type": "code",
   "execution_count": null,
   "metadata": {},
   "outputs": [],
   "source": [
    "small_ucid = UC_Irvine_datasets().small_datasets_only()\n",
    "listall = small_ucid.list_all_datasets()\n",
    "print(listall)"
   ]
  }
 ],
 "metadata": {
  "kernelspec": {
   "display_name": "Python 3.8.3 64-bit",
   "language": "python",
   "name": "python38364bit3b389835a0504bd3b02c92ba4837e1bf"
  },
  "language_info": {
   "codemirror_mode": {
    "name": "ipython",
    "version": 3
   },
   "file_extension": ".py",
   "mimetype": "text/x-python",
   "name": "python",
   "nbconvert_exporter": "python",
   "pygments_lexer": "ipython3",
   "version": "3.8.4"
  }
 },
 "nbformat": 4,
 "nbformat_minor": 2
}
