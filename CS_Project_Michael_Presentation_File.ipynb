{
 "cells": [
  {
   "cell_type": "code",
   "execution_count": 55,
   "metadata": {},
   "outputs": [
    {
     "name": "stdout",
     "output_type": "stream",
     "text": [
      "C:\\Users\\micha\\Documents\\CS 5010\\project\\UC_Irvine_Dataset_MetaAnalysis\n"
     ]
    },
    {
     "ename": "ModuleNotFoundError",
     "evalue": "No module named 'CS_Project_Michael_Functions'",
     "output_type": "error",
     "traceback": [
      "\u001b[1;31m---------------------------------------------------------------------------\u001b[0m",
      "\u001b[1;31mModuleNotFoundError\u001b[0m                       Traceback (most recent call last)",
      "\u001b[1;32m<ipython-input-55-50f64a5974e3>\u001b[0m in \u001b[0;36m<module>\u001b[1;34m\u001b[0m\n\u001b[0;32m     11\u001b[0m \u001b[1;33m\u001b[0m\u001b[0m\n\u001b[0;32m     12\u001b[0m \u001b[1;31m#this is causing an error\u001b[0m\u001b[1;33m\u001b[0m\u001b[1;33m\u001b[0m\u001b[1;33m\u001b[0m\u001b[0m\n\u001b[1;32m---> 13\u001b[1;33m \u001b[1;32mfrom\u001b[0m \u001b[0mCS_Project_Michael_Functions\u001b[0m\u001b[1;33m.\u001b[0m\u001b[0mipynb\u001b[0m \u001b[1;32mimport\u001b[0m \u001b[1;33m*\u001b[0m\u001b[1;33m\u001b[0m\u001b[1;33m\u001b[0m\u001b[0m\n\u001b[0m\u001b[0;32m     14\u001b[0m \u001b[1;33m\u001b[0m\u001b[0m\n\u001b[0;32m     15\u001b[0m \u001b[1;31m#setting notbook to run offline\u001b[0m\u001b[1;33m\u001b[0m\u001b[1;33m\u001b[0m\u001b[1;33m\u001b[0m\u001b[0m\n",
      "\u001b[1;31mModuleNotFoundError\u001b[0m: No module named 'CS_Project_Michael_Functions'"
     ]
    }
   ],
   "source": [
    "import numpy as np\n",
    "import pandas as pd\n",
    "import plotly.offline as pyo\n",
    "import plotly.express as px\n",
    "import ipywidgets as widgets\n",
    "#importing file with functions\n",
    "\n",
    "\n",
    "import os\n",
    "print(os.getcwd())\n",
    "\n",
    "#this is causing an error\n",
    "from CS_Project_Michael_Functions.ipynb import *\n",
    "\n",
    "#setting notbook to run offline \n",
    "pyo.init_notebook_mode()\n",
    "\n",
    "#import data file\n",
    "df = pd.read_csv('cleanest_data.csv') \n",
    "\n",
    "#grouping by area of interest \n",
    "df_intrest = df.groupby(['Area']).sum()\n",
    "\n",
    "#grouping by year and area of interest\n",
    "df_year_area = df.groupby(['year_donated','Area']).count().reset_index()\n",
    "\n",
    "#group by year take mean of each group\n",
    "df_year_avg_instance = df.groupby(['year_donated','Area']).mean().reset_index()"
   ]
  },
  {
   "cell_type": "code",
   "execution_count": null,
   "metadata": {},
   "outputs": [],
   "source": [
    "#Call Graph Functions\n",
    "dropDown = widgets.Dropdown(options=['Histogram of Area', \n",
    "                                     'Histogram of Web Hits',\n",
    "                                     'Instance by Area',\n",
    "                                     'Webhits by Year by Dataset',\n",
    "                                     'Data set per Year by Area',\n",
    "                                     'Number of Instances by Area',\n",
    "                                     'All'], value='All')\n",
    "\n",
    "display(dropDown)"
   ]
  },
  {
   "cell_type": "code",
   "execution_count": null,
   "metadata": {},
   "outputs": [],
   "source": [
    "\n",
    "#displaying graph based off drop down selection \n",
    "displayGraph = dropDown.value\n",
    "if displayGraph == 'Histogram of Area':\n",
    "    x=1\n",
    "elif displayGraph == 'Histogram of Web Hits':\n",
    "    x=2\n",
    "elif displayGraph == 'Instance by Area':\n",
    "    x=3\n",
    "elif displayGraph == 'Webhits by Year by Dataset':\n",
    "    x=4\n",
    "elif displayGraph == 'Data set per Year by Area':\n",
    "    x=5\n",
    "elif displayGraph == 'Number of Instances by Area':\n",
    "    x=6\n",
    "else:\n",
    "    x=7\n",
    "    \n",
    "print(x)\n"
   ]
  }
 ],
 "metadata": {
  "kernelspec": {
   "display_name": "Python 3",
   "language": "python",
   "name": "python3"
  },
  "language_info": {
   "codemirror_mode": {
    "name": "ipython",
    "version": 3
   },
   "file_extension": ".py",
   "mimetype": "text/x-python",
   "name": "python",
   "nbconvert_exporter": "python",
   "pygments_lexer": "ipython3",
   "version": "3.7.6"
  }
 },
 "nbformat": 4,
 "nbformat_minor": 4
}
