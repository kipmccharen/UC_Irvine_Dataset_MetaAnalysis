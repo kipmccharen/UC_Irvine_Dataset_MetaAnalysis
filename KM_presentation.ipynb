{
 "metadata": {
  "language_info": {
   "codemirror_mode": {
    "name": "ipython",
    "version": 3
   },
   "file_extension": ".py",
   "mimetype": "text/x-python",
   "name": "python",
   "nbconvert_exporter": "python",
   "pygments_lexer": "ipython3",
   "version": "3.8.3-final"
  },
  "orig_nbformat": 2,
  "kernelspec": {
   "name": "python38364bit3b389835a0504bd3b02c92ba4837e1bf",
   "display_name": "Python 3.8.3 64-bit"
  }
 },
 "nbformat": 4,
 "nbformat_minor": 2,
 "cells": [
  {
   "cell_type": "code",
   "execution_count": 2,
   "metadata": {},
   "outputs": [],
   "source": [
    "from scripts.ucidata import UC_Irvine_datasets, df_first_row_to_header\n",
    "from scripts.Kip_plotly_viz import viz_stacked_tasks_time, viz_stacked_area_tasks_time, viz_webhits_data_available, worldmap\n",
    "ucid = UC_Irvine_datasets()"
   ]
  },
  {
   "cell_type": "code",
   "execution_count": null,
   "metadata": {
    "tags": []
   },
   "outputs": [],
   "source": [
    "ucid.print_distribution(\"Area\")"
   ]
  },
  {
   "cell_type": "code",
   "execution_count": null,
   "metadata": {
    "tags": []
   },
   "outputs": [],
   "source": [
    "ucid.print_distribution(\"NumberofWebHits\")"
   ]
  },
  {
   "cell_type": "code",
   "execution_count": null,
   "metadata": {},
   "outputs": [],
   "source": [
    "ucid.print_barplot(\"Area\",\"NumberofInstances\")"
   ]
  },
  {
   "cell_type": "code",
   "execution_count": null,
   "metadata": {},
   "outputs": [],
   "source": [
    "ucid.print_barplot(\"year_donated\",\"NumberofWebHits\", colorcol=\"header\")"
   ]
  },
  {
   "cell_type": "code",
   "execution_count": null,
   "metadata": {
    "tags": []
   },
   "outputs": [],
   "source": [
    "ucid.print_barplot(\"year_donated\",\"dataset_count\", colorcol=\"Area\")"
   ]
  },
  {
   "cell_type": "code",
   "execution_count": 3,
   "metadata": {
    "tags": []
   },
   "outputs": [
    {
     "output_type": "error",
     "ename": "AttributeError",
     "evalue": "'UC_Irvine_datasets' object has no attribute 'dataset_df'",
     "traceback": [
      "\u001b[1;31m---------------------------------------------------------------------------\u001b[0m",
      "\u001b[1;31mAttributeError\u001b[0m                            Traceback (most recent call last)",
      "\u001b[1;32m<ipython-input-3-8455b3837c67>\u001b[0m in \u001b[0;36m<module>\u001b[1;34m\u001b[0m\n\u001b[1;32m----> 1\u001b[1;33m \u001b[0mworldmap\u001b[0m\u001b[1;33m(\u001b[0m\u001b[0mucid\u001b[0m\u001b[1;33m.\u001b[0m\u001b[0mdataset_df\u001b[0m\u001b[1;33m(\u001b[0m\u001b[1;33m)\u001b[0m\u001b[1;33m)\u001b[0m\u001b[1;33m.\u001b[0m\u001b[0mshow\u001b[0m\u001b[1;33m(\u001b[0m\u001b[1;33m)\u001b[0m\u001b[1;33m\u001b[0m\u001b[1;33m\u001b[0m\u001b[0m\n\u001b[0m",
      "\u001b[1;31mAttributeError\u001b[0m: 'UC_Irvine_datasets' object has no attribute 'dataset_df'"
     ]
    }
   ],
   "source": [
    "worldmap(ucid.to_df()).show()"
   ]
  },
  {
   "cell_type": "code",
   "execution_count": 2,
   "metadata": {
    "tags": []
   },
   "outputs": [
    {
     "output_type": "stream",
     "name": "stdout",
     "text": "count of datasets: 471 \n                avg age: 10.7 yrs \n    median # datapoints: 43890.0 \n\nHere are the number of rows in each category: \n\nmultivariate_data           372\ntime_series_data            100\ndata_generator_data           5\ndomain_theory_data           18\nimage_data                    0\nrelational_data               4\nsequential_data              49\nspatial_data                  1\nunivariate_data              23\nspatio_temporal_data          1\ntext_data                    56\ntransactional_data            1\ncategorical_attributes       81\nreal_attributes             271\ninteger_attributes          194\nno_listed_attributes         62\ncausal_discover_task         13\nclassification_task         358\nregression_task             111\nfunction_learning_task        1\nreccomendation_task           1\ndescription_task              1\nrelational_learning_task      1\nno_given_task                31\nclustering_task              93\nsmall                       143\ndtype: int64\n"
    }
   ],
   "source": [
    "print(ucid)"
   ]
  },
  {
   "cell_type": "code",
   "execution_count": 3,
   "metadata": {
    "tags": []
   },
   "outputs": [
    {
     "output_type": "stream",
     "name": "stdout",
     "text": "ID                                                  Title\n                        00314                              AAAI 2013 Accepted Papers\n                        00307                              AAAI 2014 Accepted Papers\n                      abalone                                                Abalone\n                abscisic-acid                        Abscisic Acid Signaling Network\n                        acute                                    Acute Inflammations\n                   arrhythmia                                             Arrhythmia\n                 audiology-og                                   Audiology (Original)\n              audiology-stand                               Audiology (Standardized)\n                     auto-mpg                                               Auto MPG\n                        autos                                             Automobile\n                       badges                                                 Badges\n                balance-scale                                          Balance Scale\n                        00267                                banknote authentication\n                        00474                                                 BAUM-2\n            blood-transfusion                       Blood Transfusion Service Center\n                        00451                                  Breast Cancer Coimbra\n                breast-cancer                                          Breast Cancer\n              bc-wi-dianostic                   Breast Cancer Wisconsin (Diagnostic)\n                     bc-wi-og                     Breast Cancer Wisconsin (Original)\n                   bc-wi-prog                   Breast Cancer Wisconsin (Prognostic)\n                        00476                                              BuddyMove\n                        00472               Caesarian Section Classification Dataset\n       building-people-counts                          CalIt2 Building People Counts\n                          car                                         Car Evaluation\n                        00448                                       Carbon Nanotubes\n                        00383                         Cervical cancer (Risk Factors)\n                space-shuttle                    Challenger USA Space Shuttle O-Ring\n      chess/king-rook-vs-king                             Chess (King-Rook vs. King)\n chess/king-rook-vs-king-pawn                        Chess (King-Rook vs. King-Pawn)\n          undocumented/taylor                                                  Cloud\n                     coil-mld                             Coil 1999 Competition Data\n              cpu-performance                                      Computer Hardware\n         concrete/compressive                          Concrete Compressive Strength\n               concrete/slump                                    Concrete Slump Test\n               voting-records                           Congressional Voting Records\n                    connect-4                                              Connect-4\n                        00436                             Container Crane Controller\n                          cmc                            Contraceptive Method Choice\n               cylinder-bands                                         Cylinder Bands\n                        00409                        Daily Demand Forecasting Orders\n                  dermatology                                            Dermatology\n                        00442                detection_of_IoT_botnet_attacks_N_BaIoT\n              event-detection                                    Dodgers Loop Sensor\n                        00373                          Drug consumption (quantified)\n               echocardiogram                                         Echocardiogram\n                        00398                                              Eco-hotel\n                        ecoli                                                  Ecoli\n                        00523                                                Exasens\n                        00488                      Facebook Live Sellers in Thailand\n                        00244                                              Fertility\n                        00324  Firm-Teacher_Clave-Direction_Classification Data S...\n                        flags                                                  Flags\n                        00386                      FMA: A Dataset For Music Analysis\n                 forest-fires                                           Forest Fires\n             function-finding                                       Function Finding\n                        glass                                   Glass Identification\n                     haberman                                    Haberman's Survival\n                   hayes-roth                                             Hayes-Roth\n                        00519                         Heart failure clinical records\n                    hepatitis                                              Hepatitis\n                  hill-valley                                            Hill-Valley\n                  horse-colic                                            Horse Colic\n                        00434                             ICMLA 2014 Accepted Papers\n                        00225                    ILPD (Indian Liver Patient Dataset)\n                        image                                     Image Segmentation\n                      tic-mld                Insurance Company Benchmark (COIL 2000)\n           internet_usage-mld                                    Internet Usage Data\n                   ionosphere                                             Ionosphere\n                         iris                                                   Iris\n                      kinship                                                Kinship\n                        00516                         Kitsune Network Attack Dataset\n           labor-negotiations                                        Labor Relations\n                        00397                                        Las Vegas Strip\n                       lenses                                                 Lenses\n           letter-recognition                                     Letter Recognition\n                       libras                                        Libras Movement\n              liver-disorders                                        Liver Disorders\n                 spectrometer                            Low Resolution Spectrometer\n                  lung-cancer                                            Lung Cancer\n                 lymphography                                           Lymphography\n          mammographic-masses                                      Mammographic Mass\n                    meta-data                                              Meta-data\n                        00492                        Metro Interstate Traffic Volume\n                prom-gene-seq  Molecular Biology (Promoter Gene Sequences) Data S...\n        splice-junct-gene-seq  Molecular Biology (Splice-junction Gene Sequences)...\n               moral-reasoner                                         Moral Reasoner\n                   movies-mld                                                  Movie\n                     mushroom                                               Mushroom\n                        00432  News Popularity in Multiple Social Media Platforms...\n                        00499  Opinion Corpus for Lebanese Arabic Reviews (OCLAR)...\n                        00449                       Optical Interconnection Network \n                    optdigits              Optical Recognition of Handwritten Digits\n                        ozone                                  Ozone Level Detection\n                  page-blocks                             Page Blocks Classification\n                        00489  Parkinson Dataset with replicated acoustic feature...\n                   parkinsons                                             Parkinsons\n    parkinsons/telemonitoring                              Parkinsons Telemonitoring\n                  pioneer-mld                            Pioneer-1 Mobile Robot Data\n                      bridges                                     Pittsburgh Bridges\n                        00230                                         Planning Relax\n   postoperative-patient-data                                 Post-Operative Patient\n                primary-tumor                                          Primary Tumor\n                        00505                                  QSAR aquatic toxicity\n                        00510                  QSAR Bioconcentration classes dataset\n                        00254                                    QSAR biodegradation\n                        00504                                     QSAR fish toxicity\n             robotfailure-mld                               Robot Execution Failures\n                        00396                      Sales_Transactions_Dataset_Weekly\n                        00236                                                  seeds\n                        servo                                                  Servo\n      shuttle-landing-control                                Shuttle Landing Control\n                        00272                       SkillCraft1 Master Table Dataset\n                  solar-flare                                            Solar Flare\n                        00479                            Somerville Happiness Survey\n                soybean-large                                        Soybean (Large)\n                soybean-small                                        Soybean (Small)\n                     spambase                                               Spambase\n                        spect                                            SPECT Heart\n                       spectf                                           SPECTF Heart\n               statlog/german                           Statlog (German Credit Data)\n        synthetic_control-mld                    Synthetic Control Chart Time Series\n            SyskillWebert-mld                    Syskill and Webert Web Page Ratings\n                        00485                                  Tarvel Review Ratings\n                          tae                          Teaching Assistant Evaluation\n              thyroid-disease                                        Thyroid Disease\n                  tic-tac-toe                                    Tic-Tac-Toe Endgame\n                       trains                                                 Trains\n                        00484                                         Travel Reviews\n                        00262                             Turkiye Student Evaluation\n                   university                                             University\n                        00194                   Wall-Following Robot Navigation Data\n              water-treatment                                  Water Treatment Plant\n                    waveform1                Waveform Database Generator (Version 1)\n                    waveform2                Waveform Database Generator (Version 2)\n                        00465  WESAD (Wearable Stress and Affect Detection) Data ...\n                        00292                                    Wholesale customers\n                        00334                                                wiki4HE\n                         wine                                                   Wine\n                 wine-quality                                           Wine Quality\n                        00422                           Wireless Indoor Localization\n                        00243                                    Yacht Hydrodynamics\n                        yeast                                                  Yeast\n                          zoo                                                    Zoo\n"
    }
   ],
   "source": [
    "ucid.small_datasets_only()\n",
    "print(ucid.list_all_datasets())"
   ]
  },
  {
   "cell_type": "code",
   "execution_count": 4,
   "metadata": {
    "tags": []
   },
   "outputs": [
    {
     "output_type": "stream",
     "name": "stdout",
     "text": "5\nheader                                                                               Abalone Data Set\nNumberofInstances                                                                                4177\nArea                                                                                             Life\nNumberofAttributes                                                                                  8\nDateDonated                                                                                 12/1/1995\nMissingValues                                                                                      No\nNumberofWebHits                                                                                956229\nmultivariate_data                                                                                   1\nnum_data_characteristics                                                                            1\ncategorical_attributes                                                                              1\nreal_attributes                                                                                     1\ninteger_attributes                                                                                  1\nnum_attribute_characteristics                                                                       3\nclassification_task                                                                                 1\nnum_associated_tasks                                                                                3\nsource_institution_places            [['University of Warwick', 'Coventry', 'United Kingdom', 'GBR']]\nyear_donated                                                                                     1995\nyear_month_donated                                                                             Dec-95\nDatasetAge                                                                                         25\nDatapointCount                                                                                  33416\ndata_ext_url                   [['Index', '114B'], ['abalone.data', '187K'], ['abalone.names', '4K']]\nsmall                                                                                               1\ndataset_URL                                                                                   Abalone\ndata_folder                                                                                 /abalone/\nshortname                                                                                     abalone\n"
    }
   ],
   "source": [
    "print(ucid.show_me_dataset(\"abalone\"))"
   ]
  },
  {
   "cell_type": "code",
   "execution_count": 7,
   "metadata": {
    "tags": []
   },
   "outputs": [
    {
     "output_type": "stream",
     "name": "stdout",
     "text": "https://archive.ics.uci.edu/ml/machine-learning-databases/abalone/abalone.data\n   0      1      2      3       4       5       6      7   8\n0  M  0.455  0.365  0.095  0.5140  0.2245  0.1010  0.150  15\n1  M  0.350  0.265  0.090  0.2255  0.0995  0.0485  0.070   7\n2  F  0.530  0.420  0.135  0.6770  0.2565  0.1415  0.210   9\n3  M  0.440  0.365  0.125  0.5160  0.2155  0.1140  0.155  10\n\n\n0  M  0.455  0.365  0.095   0.514  0.2245  0.10099999999999999   0.15  15\n1  M   0.35  0.265  0.090  0.2255  0.0995               0.0485  0.070   7\n2  F   0.53  0.420  0.135  0.6770  0.2565               0.1415  0.210   9\n3  M   0.44  0.365  0.125  0.5160  0.2155               0.1140  0.155  10\n4  I   0.33  0.255  0.080  0.2050  0.0895               0.0395  0.055   7\n"
    }
   ],
   "source": [
    "    new_dataset = ucid.load_small_dataset_df('abalone')\n",
    "    print(new_dataset.head(4))\n",
    "    print('\\n')\n",
    "    print(df_first_row_to_header(new_dataset).head(4))"
   ]
  },
  {
   "cell_type": "code",
   "execution_count": null,
   "metadata": {},
   "outputs": [],
   "source": []
  }
 ]
}